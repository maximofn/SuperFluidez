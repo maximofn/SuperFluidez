{
  "nbformat": 4,
  "nbformat_minor": 0,
  "metadata": {
    "colab": {
      "name": "Super fluidez - DAIN.ipynb",
      "provenance": [],
      "collapsed_sections": [],
      "toc_visible": true,
      "machine_shape": "hm",
      "mount_file_id": "1Vu5n9e7J--mWHEc_8r0uTp5VCQDpooSz",
      "authorship_tag": "ABX9TyP1fb87phokIdNITXhb8t1+",
      "include_colab_link": true
    },
    "kernelspec": {
      "name": "python3",
      "display_name": "Python 3"
    },
    "accelerator": "GPU"
  },
  "cells": [
    {
      "cell_type": "markdown",
      "metadata": {
        "id": "view-in-github",
        "colab_type": "text"
      },
      "source": [
        "<a href=\"https://colab.research.google.com/github/maximofn/SuperFluidez/blob/master/Super_fluidez_DAIN.ipynb\" target=\"_parent\"><img src=\"https://colab.research.google.com/assets/colab-badge.svg\" alt=\"Open In Colab\"/></a>"
      ]
    },
    {
      "cell_type": "markdown",
      "metadata": {
        "id": "qSYq-omSL9t3",
        "colab_type": "text"
      },
      "source": [
        "# Super fluidez"
      ]
    },
    {
      "cell_type": "markdown",
      "metadata": {
        "id": "Cd0JOQMRMEQE",
        "colab_type": "text"
      },
      "source": [
        "Credits to original Colab file: \n",
        "https://github.com/baowenbo/DAIN/issues/44\n",
        "\n",
        "Colab adaptation:\n",
        "https://github.com/styler00dollar/DAIN\n",
        "\n",
        "Enhancement by [Styler00Dollar](https://github.com/styler00dollar) aka \"sudo rm -rf / --no-preserve-root#8353\" on discord and [Alpha](https://github.com/AlphaGit). Please do not run this command in your linux terminal. It's rather meant as a joke.\n",
        "\n",
        "Information obtained thanks to the [DotCSV](https://www.youtube.com/channel/UCy5znSnfMsDwaLlROnZ7Qbg) YouTube channel. From video: https://www.youtube.com/watch?v=rr7FjhhvEes&t=7s\n",
        "\n",
        "A simple guide:\n",
        "- Copy the .ipynb-file to your drive.\n",
        "- Create a folder inside of Google Drive named \"DAIN\"\n",
        "- Change the configurations in the next cell\n",
        "- Run cells one by one\n",
        "\n",
        "Stuff that should be improved:\n",
        "- Alpha channel will be removed automatically and won't be added back. Anything related to alpha will be converted to black.\n",
        "- Adding configuration to select speed\n",
        "- Detect scenes to avoid interpolating scene-changes\n",
        "- Auto-resume\n",
        "- Copy `start_frame` - `end_frame` audio from original input to final output"
      ]
    },
    {
      "cell_type": "markdown",
      "metadata": {
        "id": "ilpcDXzbMhYX",
        "colab_type": "text"
      },
      "source": [
        "## Comprobar GPU"
      ]
    },
    {
      "cell_type": "code",
      "metadata": {
        "id": "9iHnn5_pMogm",
        "colab_type": "code",
        "colab": {}
      },
      "source": [
        "# Check your current GPU\n",
        "# If you are lucky, you get 16GB VRAM. If you are not lucky, you get less. VRAM is important. The more VRAM, the higher the maximum resolution will go.\n",
        "\n",
        "# 16GB: Can handle 720p. 1080p will procude an out-of-memory error. \n",
        "# 8GB: Can handle 480p. 720p will produce an out-of-memory error.\n",
        "\n",
        "# P100: 16GB (Works)\n",
        "# T4: 16GB [RuntimeError: CUDA call failed]\n",
        "# P4: 8GB (Works)\n",
        "# K80: 8GB (Not tested)\n",
        "\n",
        "!nvidia-smi --query-gpu=gpu_name,driver_version,memory.total --format=csv"
      ],
      "execution_count": 0,
      "outputs": []
    },
    {
      "cell_type": "markdown",
      "metadata": {
        "id": "EXzoExabM8TT",
        "colab_type": "text"
      },
      "source": [
        "Si no se tiene un modelo bueno de GPU se intenta que Google la cambie"
      ]
    },
    {
      "cell_type": "code",
      "metadata": {
        "id": "IbHoyPFMNMln",
        "colab_type": "code",
        "colab": {}
      },
      "source": [
        "a = []\n",
        "\n",
        "while True:\n",
        "  a.append(1)"
      ],
      "execution_count": 0,
      "outputs": []
    },
    {
      "cell_type": "markdown",
      "metadata": {
        "id": "PJGAvPbhN6kK",
        "colab_type": "text"
      },
      "source": [
        "## Configuracion"
      ]
    },
    {
      "cell_type": "code",
      "metadata": {
        "id": "g8BNwwD-N_Oe",
        "colab_type": "code",
        "colab": {}
      },
      "source": [
        "################# Configurations ############################\n",
        "\n",
        "# Use the values in here to configure what you'd like DAIN to do.\n",
        "\n",
        "# Input file: Path (relative to the root of your Google Drive) to the input file.\n",
        "# For instance, if you save your \"example.mkv\" file in your Google Drive, inside a \"videos\" folder, the path would be:\n",
        "# videos/example.mkv. Currenly videos and gifs are supported.\n",
        "INPUT_FILENAME = \"LidiaValentin12fps.mp4\"\n",
        "INPUT_FILEPATH = \"Colab\\ Notebooks/Remasterizacion\\ de\\ video/Super\\ fluided/\" + INPUT_FILENAME\n",
        "\n",
        "# Output file path: path (relative to the root of your Google Drive) for the output file. It will also determine the\n",
        "# filetype in the destination. MP4 is recommended.\n",
        "OUTPUT_FILE_NAME = \"LidiaValentin60fps.mp4\"\n",
        "OUTPUT_FILE_PATH = \"Colab\\ Notebooks/Remasterizacion\\ de\\ video/Super\\ fluided/\" + OUTPUT_FILE_NAME\n",
        "\n",
        "################# Optional configurations ############################\n",
        "\n",
        "# Target FPS = how many frames per second should the result have. This will determine how many intermediate images are\n",
        "# interpolated.\n",
        "TARGET_FPS = 60\n",
        "\n",
        "# Frame input directly\n",
        "# Use a path that is in your GDrive if you already have the list of frames in the format 00001.png, 00002.png, etc.\n",
        "# Your GDrive is located at `/content/gdrive/My Drive/`\n",
        "FRAME_INPUT_DIR = '/content/DAIN/input_frames'\n",
        "\n",
        "# Frame output directory\n",
        "# Use a location in your GDrive if you want the generated frames stored to your Google Drive.\n",
        "# Your GDrive is located at `/content/gdrive/My Drive/DAIN/tmp`\n",
        "FRAME_OUTPUT_DIR = '/content/DAIN/output_frames'\n",
        "\n",
        "# Seamless playback\n",
        "# Creates a seamless loop by using the first frame as last one as well. Set this to True this if loop is intended.\n",
        "SEAMLESS = False\n",
        "\n",
        "# Resize hotfix\n",
        "# DAIN frames are a bit \"shifted / smaller\" compared to original input frames. This can partly be mitigated with resizing\n",
        "# DAIN frames to the resolution +2px and cropping the result to the original resoultion with the starting point (1,1).\n",
        "# Without this fix, DAIN tends to make \"vibrating\" output and it is pretty noticible with static elements like text.\n",
        "# This hotfix tries to make such effects less visible for a smoother video playback. I do not know what DAINAPP\n",
        "# uses as a fix for this problem, but the original does show such behaviour with the default test images. More advanced\n",
        "# users can change the interpolation method. The methods cv2.INTER_CUBIC and cv2.INTER_LANCZOS4 are recommended.\n",
        "# The current default value is cv2.INTER_LANCZOS4.\n",
        "RESIZE_HOTFIX = True\n",
        "\n",
        "# Auto-delete output PNG dir after ffmpeg video creation.\n",
        "AUTO_REMOVE = False"
      ],
      "execution_count": 0,
      "outputs": []
    },
    {
      "cell_type": "markdown",
      "metadata": {
        "id": "Bnj6rQyPPRY0",
        "colab_type": "text"
      },
      "source": [
        "## Instalación de dependencias"
      ]
    },
    {
      "cell_type": "markdown",
      "metadata": {
        "id": "lZfAfCWfPXKr",
        "colab_type": "text"
      },
      "source": [
        "Esto puede tardar entre 15 y 20 minutos"
      ]
    },
    {
      "cell_type": "code",
      "metadata": {
        "id": "HIdi8yB5PeJ7",
        "colab_type": "code",
        "colab": {}
      },
      "source": [
        "from IPython.display import clear_output\n",
        "!git clone https://github.com/styler00dollar/Colab-DAIN /content/DAIN"
      ],
      "execution_count": 0,
      "outputs": []
    },
    {
      "cell_type": "code",
      "metadata": {
        "id": "PfqxMC69PqtA",
        "colab_type": "code",
        "colab": {}
      },
      "source": [
        "# This takes a while. Just wait. ~15 minutes.\n",
        "# Building DAIN.\n",
        "%cd /content/DAIN/my_package/\n",
        "!./build.sh\n",
        "print(\"Building #1 done.\")"
      ],
      "execution_count": 0,
      "outputs": []
    },
    {
      "cell_type": "code",
      "metadata": {
        "id": "kf-MJRpwPzSa",
        "colab_type": "code",
        "colab": {}
      },
      "source": [
        "# Wait again. ~5 minutes.\n",
        "# Building DAIN PyTorch correlation package.\n",
        "%cd /content/DAIN/PWCNet/correlation_package_pytorch1_0\n",
        "!./build.sh\n",
        "print(\"Building #2 done.\")"
      ],
      "execution_count": 0,
      "outputs": []
    },
    {
      "cell_type": "code",
      "metadata": {
        "id": "dKpoS1dPP7i6",
        "colab_type": "code",
        "colab": {}
      },
      "source": [
        "# Downloading pre-trained model\n",
        "%cd /content/DAIN\n",
        "!mkdir model_weights\n",
        "!wget -O model_weights/best.pth http://vllab1.ucmerced.edu/~wenbobao/DAIN/best.pth"
      ],
      "execution_count": 0,
      "outputs": []
    },
    {
      "cell_type": "code",
      "metadata": {
        "id": "LFMcJEIpQDhB",
        "colab_type": "code",
        "colab": {}
      },
      "source": [
        "# Select GPU\n",
        "!CUDA_VISIBLE_DEVICES=0"
      ],
      "execution_count": 0,
      "outputs": []
    },
    {
      "cell_type": "code",
      "metadata": {
        "id": "arC6OZTxQKFk",
        "colab_type": "code",
        "colab": {}
      },
      "source": [
        "!sudo apt-get install imagemagick imagemagick-doc"
      ],
      "execution_count": 0,
      "outputs": []
    },
    {
      "cell_type": "markdown",
      "metadata": {
        "id": "jrMmn1oOQVN2",
        "colab_type": "text"
      },
      "source": [
        "## Detectar los FPS del video de entrada"
      ]
    },
    {
      "cell_type": "code",
      "metadata": {
        "id": "GBGnldJoQcsv",
        "colab_type": "code",
        "colab": {}
      },
      "source": [
        "# Detecting FPS of input file.\n",
        "%shell yes | cp -f /content/drive/My\\ Drive/{INPUT_FILEPATH} /content/DAIN/\n",
        "\n",
        "import os\n",
        "filename = os.path.basename(INPUT_FILEPATH)\n",
        "\n",
        "import cv2\n",
        "cap = cv2.VideoCapture(f'/content/DAIN/{filename}')\n",
        "\n",
        "fps = cap.get(cv2.CAP_PROP_FPS)\n",
        "\n",
        "if(fps/TARGET_FPS>0.5):\n",
        "  print(\"Define a higher fps, because there is not enough time for new frames. (Old FPS)/(New FPS) should be lower than 0.5. Interpolation will fail if you try.\")\n",
        "\n",
        "print (\"fps = %0.4f\" % fps)"
      ],
      "execution_count": 0,
      "outputs": []
    },
    {
      "cell_type": "markdown",
      "metadata": {
        "id": "GEEf8nG0RNJG",
        "colab_type": "text"
      },
      "source": [
        "## Extraer todos los franes del video de entrada"
      ]
    },
    {
      "cell_type": "code",
      "metadata": {
        "id": "Nr2qsrcHRfL9",
        "colab_type": "code",
        "colab": {}
      },
      "source": [
        "# ffmpeg extract - Generating individual frame PNGs from the source file.\n",
        "%cd /content/DAIN/\n",
        "%shell rm -rf '{FRAME_INPUT_DIR}'\n",
        "%shell mkdir -p '{FRAME_INPUT_DIR}'\n",
        "\n",
        "%shell ffmpeg -i '/content/DAIN/{filename}' '{FRAME_INPUT_DIR}/%05d.png'\n",
        "\n",
        "png_generated_count_command_result = %shell ls '{FRAME_INPUT_DIR}' | wc -l\n",
        "clear_output()\n",
        "\n",
        "pngs_generated_count = int(png_generated_count_command_result.output.strip())\n",
        "\n",
        "import shutil\n",
        "if SEAMLESS==True:\n",
        "  pngs_generated_count += 1\n",
        "  original = str(FRAME_INPUT_DIR)+\"/00001.png\"\n",
        "  target = str(FRAME_INPUT_DIR)+\"/\"+str(pngs_generated_count).zfill(5)+\".png\"\n",
        "  shutil.copyfile(original, target)\n",
        "\n",
        "print(f\"Input FPS: {fps}\")\n",
        "print(f\"{pngs_generated_count} frame PNGs generated.\")\n",
        "\n",
        "# Checking if PNG do have alpha\n",
        "import subprocess as sp\n",
        "%cd {FRAME_INPUT_DIR}\n",
        "channels = sp.getoutput('identify -format %[channels] 00001.png')\n",
        "print (f\"{channels} detected\")\n",
        "\n",
        "# Removing alpha if detected\n",
        "if \"a\" in channels:\n",
        "  print(\"Alpha detected and will be removed.\")\n",
        "  print(sp.getoutput('find . -name \"*.png\" -exec convert \"{}\" -alpha off PNG24:\"{}\" \\;'))"
      ],
      "execution_count": 0,
      "outputs": []
    },
    {
      "cell_type": "code",
      "metadata": {
        "id": "f1R4h7MhBwo9",
        "colab_type": "code",
        "colab": {}
      },
      "source": [
        "print(f\"{pngs_generated_count} frame PNGs generated.\")"
      ],
      "execution_count": 0,
      "outputs": []
    },
    {
      "cell_type": "code",
      "metadata": {
        "id": "ir64KtZ8-az9",
        "colab_type": "code",
        "colab": {}
      },
      "source": [
        "!cp -r /content/DAIN/input_frames /content/drive/My\\ Drive/Colab\\ Notebooks/Remasterizacion\\ de\\ video/Super\\ fluided"
      ],
      "execution_count": 0,
      "outputs": []
    },
    {
      "cell_type": "markdown",
      "metadata": {
        "id": "Ga2PZ-PXRw3O",
        "colab_type": "text"
      },
      "source": [
        "## Interpolacion de los frames"
      ]
    },
    {
      "cell_type": "code",
      "metadata": {
        "id": "yPYVIVpbR7Or",
        "colab_type": "code",
        "colab": {}
      },
      "source": [
        "# Interpolation\n",
        "%shell mkdir -p '{FRAME_OUTPUT_DIR}'\n",
        "%cd /content/DAIN\n",
        "\n",
        "!python colab_interpolate.py --netName DAIN_slowmotion --time_step {fps/TARGET_FPS} --start_frame 1 --end_frame {pngs_generated_count} --frame_input_dir '{FRAME_INPUT_DIR}' --frame_output_dir '{FRAME_OUTPUT_DIR}'"
      ],
      "execution_count": 0,
      "outputs": []
    },
    {
      "cell_type": "code",
      "metadata": {
        "id": "350Ocyfjf-Eh",
        "colab_type": "code",
        "colab": {}
      },
      "source": [
        "!cp -r /content/DAIN/output_frames /content/drive/My\\ Drive/Colab\\ Notebooks/Remasterizacion\\ de\\ video/Super\\ fluided"
      ],
      "execution_count": 0,
      "outputs": []
    },
    {
      "cell_type": "markdown",
      "metadata": {
        "id": "FSOIiU8zSNhO",
        "colab_type": "text"
      },
      "source": [
        "## Crear el video de salida"
      ]
    },
    {
      "cell_type": "code",
      "metadata": {
        "id": "bbqJtsusSWCZ",
        "colab_type": "code",
        "colab": {}
      },
      "source": [
        "# Create video\n",
        "%cd {FRAME_OUTPUT_DIR}\n",
        "%shell ffmpeg -y -r {TARGET_FPS} -f image2 -pattern_type glob -i '*.png' '/content/DAIN/{OUTPUT_FILE_NAME}'\n",
        "if(AUTO_REMOVE==True):\n",
        "  !rm -rf {FRAME_OUTPUT_DIR}/*"
      ],
      "execution_count": 0,
      "outputs": []
    },
    {
      "cell_type": "code",
      "metadata": {
        "id": "4jkHO49AsmG_",
        "colab_type": "code",
        "colab": {}
      },
      "source": [
        "!cp /content/DAIN/LidiaValentin60fps.mp4 /content/drive/My\\ Drive/Colab\\ Notebooks/Remasterizacion\\ de\\ video/Super\\ fluided"
      ],
      "execution_count": 0,
      "outputs": []
    },
    {
      "cell_type": "code",
      "metadata": {
        "id": "immlLu76SeLK",
        "colab_type": "code",
        "colab": {}
      },
      "source": [
        "# [Experimental] Create video with sound\n",
        "# Only run this, if the original had sound.\n",
        "%cd {FRAME_OUTPUT_DIR}\n",
        "%shell ffmpeg -i '/content/DAIN/{filename}' -acodec copy output-audio.aac\n",
        "%shell ffmpeg -y -r {TARGET_FPS} -f image2 -pattern_type glob -i '*.png' -i output-audio.aac -shortest '/content/gdrive/My Drive/{OUTPUT_FILE_PATH}'\n",
        "if(AUTO_REMOVE==True):\n",
        "  !rm -rf {FRAME_OUTPUT_DIR}/*\n",
        "  !rm -rf output-audio.aac"
      ],
      "execution_count": 0,
      "outputs": []
    },
    {
      "cell_type": "markdown",
      "metadata": {
        "id": "YmfEMKLoSqBh",
        "colab_type": "text"
      },
      "source": [
        "## Eliminar los frames generados"
      ]
    },
    {
      "cell_type": "code",
      "metadata": {
        "id": "dIe7Q3wBSpB_",
        "colab_type": "code",
        "colab": {}
      },
      "source": [
        "# Manually removing output PNG dir (before working with another file)\n",
        "!rm -rf {FRAME_OUTPUT_DIR}/*\n",
        "!rm -rf {FRAME_INTPUT_DIR}/*"
      ],
      "execution_count": 0,
      "outputs": []
    }
  ]
}